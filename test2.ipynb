{
 "cells": [
  {
   "cell_type": "code",
   "execution_count": 1,
   "metadata": {},
   "outputs": [],
   "source": [
    "import numpy as np\n",
    "import matplotlib.pyplot as plt\n",
    "from activations import Activation\n",
    "from nn import Layer"
   ]
  },
  {
   "cell_type": "code",
   "execution_count": 2,
   "metadata": {},
   "outputs": [
    {
     "data": {
      "image/png": "[encoded data removed]",
      "text/plain": [
       "<Figure size 640x480 with 1 Axes>"
      ]
     },
     "metadata": {},
     "output_type": "display_data"
    }
   ],
   "source": [
    "activation = Activation(\"softmax\")\n",
    "x = np.linspace(-5,5,100)\n",
    "y = activation.function(x)\n",
    "plt.plot(x, y)\n",
    "plt.title(\"softmax\")\n",
    "plt.grid(True)\n",
    "plt.show()"
   ]
  },
  {
   "cell_type": "code",
   "execution_count": 7,
   "metadata": {},
   "outputs": [],
   "source": [
    "from nn import Layer\n",
    "np.random.seed(42)\n",
    "\n",
    "L1 = Layer(1, 20, 50, \"random\", \"softmax\")"
   ]
  },
  {
   "cell_type": "code",
   "execution_count": 8,
   "metadata": {},
   "outputs": [
    {
     "data": {
      "text/plain": [
       "array([[2.00489549],\n",
       "       [1.62740704],\n",
       "       [4.8185815 ],\n",
       "       [5.23885436],\n",
       "       [1.18951687],\n",
       "       [6.61727348],\n",
       "       [1.3118277 ],\n",
       "       [4.24777801],\n",
       "       [5.25436312],\n",
       "       [6.22581474],\n",
       "       [5.28452159],\n",
       "       [5.8103685 ],\n",
       "       [3.03670116],\n",
       "       [5.88895068],\n",
       "       [1.48068908],\n",
       "       [6.36889994],\n",
       "       [4.28555426],\n",
       "       [5.90378662],\n",
       "       [3.71390971],\n",
       "       [4.86146617]])"
      ]
     },
     "execution_count": 8,
     "metadata": {},
     "output_type": "execute_result"
    }
   ],
   "source": [
    "x = np.random.uniform(low=1, high=7, size=(20, 1))\n",
    "x"
   ]
  },
  {
   "cell_type": "code",
   "execution_count": 11,
   "metadata": {},
   "outputs": [
    {
     "name": "stdout",
     "output_type": "stream",
     "text": [
      "shape (50, 1)\n"
     ]
    },
    {
     "data": {
      "text/plain": [
       "array([[0.01611732],\n",
       "       [0.01443826],\n",
       "       [0.01874605],\n",
       "       [0.02132246],\n",
       "       [0.01880105],\n",
       "       [0.02015457],\n",
       "       [0.01943449],\n",
       "       [0.02069345],\n",
       "       [0.02522446],\n",
       "       [0.01560937],\n",
       "       [0.03147706],\n",
       "       [0.01823835],\n",
       "       [0.02422241],\n",
       "       [0.01337948],\n",
       "       [0.01917223],\n",
       "       [0.02411069],\n",
       "       [0.01856054],\n",
       "       [0.01683975],\n",
       "       [0.02356684],\n",
       "       [0.0201667 ],\n",
       "       [0.0212467 ],\n",
       "       [0.01881223],\n",
       "       [0.01366995],\n",
       "       [0.02105342],\n",
       "       [0.01648218],\n",
       "       [0.01702749],\n",
       "       [0.0128374 ],\n",
       "       [0.01878621],\n",
       "       [0.01724781],\n",
       "       [0.02017345],\n",
       "       [0.02542325],\n",
       "       [0.01875007],\n",
       "       [0.01999444],\n",
       "       [0.01808281],\n",
       "       [0.02098446],\n",
       "       [0.02042207],\n",
       "       [0.01880254],\n",
       "       [0.01608234],\n",
       "       [0.02369118],\n",
       "       [0.02124458],\n",
       "       [0.01969056],\n",
       "       [0.01938554],\n",
       "       [0.01982765],\n",
       "       [0.02648691],\n",
       "       [0.03314436],\n",
       "       [0.02887211],\n",
       "       [0.01641273],\n",
       "       [0.02221837],\n",
       "       [0.01575726],\n",
       "       [0.0171144 ]])"
      ]
     },
     "execution_count": 11,
     "metadata": {},
     "output_type": "execute_result"
    }
   ],
   "source": [
    "h = L1.forward(x)\n",
    "print(f\"shape {h.shape}\")\n",
    "h"
   ]
  },
  {
   "cell_type": "code",
   "execution_count": 12,
   "metadata": {},
   "outputs": [
    {
     "data": {
      "text/plain": [
       "1.0"
      ]
     },
     "execution_count": 12,
     "metadata": {},
     "output_type": "execute_result"
    }
   ],
   "source": [
    "np.sum(h) # works as intended - the activation was softmax and indeed the entries sum to 1"
   ]
  }
 ],
 "metadata": {
  "kernelspec": {
   "display_name": "ml",
   "language": "python",
   "name": "python3"
  },
  "language_info": {
   "codemirror_mode": {
    "name": "ipython",
    "version": 3
   },
   "file_extension": ".py",
   "mimetype": "text/x-python",
   "name": "python",
   "nbconvert_exporter": "python",
   "pygments_lexer": "ipython3",
   "version": "3.10.13"
  }
 },
 "nbformat": 4,
 "nbformat_minor": 2
}
