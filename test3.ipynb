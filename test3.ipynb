{
 "cells": [
  {
   "cell_type": "code",
   "execution_count": 45,
   "metadata": {},
   "outputs": [],
   "source": [
    "import numpy as np\n",
    "import numpy.typing as npt\n",
    "import matplotlib.pyplot as plt\n",
    "from nn import *\n",
    "from losses import *\n",
    "from optimizers import Optimizer\n",
    "from utils import *"
   ]
  },
  {
   "cell_type": "code",
   "execution_count": 46,
   "metadata": {},
   "outputs": [],
   "source": [
    "from keras.datasets import fashion_mnist"
   ]
  },
  {
   "cell_type": "code",
   "execution_count": 47,
   "metadata": {},
   "outputs": [],
   "source": [
    "(x_train, y_train), (x_test, y_test) = fashion_mnist.load_data()"
   ]
  },
  {
   "cell_type": "code",
   "execution_count": 48,
   "metadata": {},
   "outputs": [
    {
     "name": "stdout",
     "output_type": "stream",
     "text": [
      "x_train.shape = (54000, 28, 28),\ty_train.shape = (54000,)\n",
      "x_valid.shape = (6000, 28, 28),\t\ty_valid.shape = (6000,)\n",
      "x_test.shape = (10000, 28, 28),\t\ty_test.shape = (10000,)\n"
     ]
    }
   ],
   "source": [
    "(x_train, y_train), (x_valid, y_valid) = train_valid_split(x_train, y_train)\n",
    "print(f\"x_train.shape = {x_train.shape},\\ty_train.shape = {y_train.shape}\")\n",
    "print(f\"x_valid.shape = {x_valid.shape},\\t\\ty_valid.shape = {y_valid.shape}\")\n",
    "print(f\"x_test.shape = {x_test.shape},\\t\\ty_test.shape = {y_test.shape}\")"
   ]
  },
  {
   "cell_type": "code",
   "execution_count": 49,
   "metadata": {},
   "outputs": [
    {
     "name": "stdout",
     "output_type": "stream",
     "text": [
      "X_train.shape = (54000, 784, 1), Y_train.shape = (54000, 10, 1)\n"
     ]
    }
   ],
   "source": [
    "X_train, Y_train = flatten_image_to_vector(x_train), one_hot_encoder(y_train)\n",
    "print(f\"X_train.shape = {X_train.shape}, Y_train.shape = {Y_train.shape}\")"
   ]
  },
  {
   "cell_type": "code",
   "execution_count": 50,
   "metadata": {},
   "outputs": [
    {
     "data": {
      "text/plain": [
       "array([[0.],\n",
       "       [0.],\n",
       "       [0.],\n",
       "       [0.],\n",
       "       [0.],\n",
       "       [0.],\n",
       "       [0.],\n",
       "       [0.],\n",
       "       [0.],\n",
       "       [1.]])"
      ]
     },
     "execution_count": 50,
     "metadata": {},
     "output_type": "execute_result"
    }
   ],
   "source": [
    "Y_train[0]"
   ]
  },
  {
   "cell_type": "code",
   "execution_count": 76,
   "metadata": {},
   "outputs": [],
   "source": [
    "nn1 = NeuralNetwork(weight_init=\"xavier\",\n",
    "                    layer_sizes=[784,16], activations=[\"tanh\"],\n",
    "                    optimizer=\"rmsprop\", learning_rate=0.01, beta=0.5, epsilon=1e-6)#, beta1=0.5, beta2=0.5, )"
   ]
  },
  {
   "cell_type": "code",
   "execution_count": 77,
   "metadata": {},
   "outputs": [],
   "source": [
    "nn1.add_layer(input_size=16, output_size=10, weight_init=\"xavier\", activation=\"softmax\")"
   ]
  },
  {
   "cell_type": "code",
   "execution_count": 78,
   "metadata": {},
   "outputs": [
    {
     "name": "stdout",
     "output_type": "stream",
     "text": [
      "Layer_0 has input neurons size = 784, has W.shape = (16, 784)\n",
      "Layer_0 has output neurons size = 16\n",
      "Layer_1 has input neurons size = 16, has W.shape = (10, 16)\n",
      "Layer_1 has output neurons size = 10\n"
     ]
    }
   ],
   "source": [
    "for i in range(len(nn1.layers)):\n",
    "    print(f\"Layer_{i} has input neurons size = {nn1.layers[i].input_size}, has W.shape = {nn1.layers[i].W.shape}\")\n",
    "    print(f\"Layer_{i} has output neurons size = {nn1.layers[i].output_size}\")"
   ]
  },
  {
   "cell_type": "code",
   "execution_count": 79,
   "metadata": {},
   "outputs": [
    {
     "data": {
      "text/plain": [
       "(1, 784, 1)"
      ]
     },
     "execution_count": 79,
     "metadata": {},
     "output_type": "execute_result"
    }
   ],
   "source": [
    "np.mean(X_train, axis=0, keepdims=True).shape"
   ]
  },
  {
   "cell_type": "code",
   "execution_count": null,
   "metadata": {},
   "outputs": [],
   "source": [
    "normalizedX_train = (X_train - np.mean(X_train, axis=0, keepdims=True))/np.std(X_train, axis=0, keepdims=True)"
   ]
  },
  {
   "cell_type": "code",
   "execution_count": 81,
   "metadata": {},
   "outputs": [
    {
     "name": "stdout",
     "output_type": "stream",
     "text": [
      "Epoch 10, Loss = 38.718081763147694\n",
      "Epoch 20, Loss = 3.6234441419666954\n",
      "Epoch 30, Loss = 0.3566106906002351\n",
      "Epoch 40, Loss = 0.057268640390292024\n",
      "Epoch 50, Loss = 0.01772163223518858\n",
      "Epoch 60, Loss = 0.008707483164222953\n",
      "Epoch 70, Loss = 0.005747967401096969\n",
      "Epoch 80, Loss = 0.004299241844821331\n",
      "Epoch 90, Loss = 0.0034048679557219714\n",
      "Epoch 100, Loss = 0.0028254959543899936\n",
      "Epoch 110, Loss = 0.002424633915406222\n",
      "Epoch 120, Loss = 0.0021259839708736967\n",
      "Epoch 130, Loss = 0.0018939747612812196\n",
      "Epoch 140, Loss = 0.0017079630091877446\n",
      "Epoch 150, Loss = 0.0015545102271618456\n",
      "Epoch 160, Loss = 0.0014213475302013322\n",
      "Epoch 170, Loss = 0.001300554974073468\n",
      "Epoch 180, Loss = 0.0012087401150385967\n",
      "Epoch 190, Loss = 0.0011303974792761218\n",
      "Epoch 200, Loss = 0.0010618690149781448\n",
      "Epoch 210, Loss = 0.0010013601026114972\n",
      "Epoch 220, Loss = 0.0009475115903335487\n",
      "Epoch 230, Loss = 0.0008992387063792371\n",
      "Epoch 240, Loss = 0.0008556744963785872\n",
      "Epoch 250, Loss = 0.0008161134403354908\n",
      "Epoch 260, Loss = 0.0007799535722606793\n",
      "Epoch 270, Loss = 0.000746599617500642\n",
      "Epoch 280, Loss = 0.0007149716907961018\n",
      "Epoch 290, Loss = 0.0006671940431433897\n",
      "Epoch 300, Loss = 0.000611775296824811\n"
     ]
    }
   ],
   "source": [
    "nn1.train(X_train=normalizedX_train[:200].copy(), Y_train=Y_train[:200].copy(), batch_size=20, epochs=300)"
   ]
  },
  {
   "cell_type": "code",
   "execution_count": 83,
   "metadata": {},
   "outputs": [],
   "source": [
    "X_test, Y_test = flatten_image_to_vector(x_test), one_hot_encoder(y_test)\n",
    "normalizedX_test = (X_test - np.mean(X_test, axis=0, keepdims=True))/np.std(X_test, axis=0, keepdims=True)"
   ]
  },
  {
   "cell_type": "code",
   "execution_count": 85,
   "metadata": {},
   "outputs": [
    {
     "name": "stdout",
     "output_type": "stream",
     "text": [
      "Correctly classified 7245 out of 10000 images.\n"
     ]
    }
   ],
   "source": [
    "total = 0\n",
    "correct = 0\n",
    "for i in range(len(X_test)):\n",
    "    y_pred = nn1.forward(normalizedX_test[i])\n",
    "    y_pred = np.int8((y_pred == np.max(y_pred)))\n",
    "    pred_label = np.argwhere(y_pred == 1)[0][0]\n",
    "    real_label = np.argwhere(Y_test[i] == 1)[0][0]\n",
    "    # print(f\"true label: {real_label}, predicted label: {pred_label}\")\n",
    "    total += 1\n",
    "    if pred_label == real_label:\n",
    "        correct += 1\n",
    "\n",
    "print(f\"Correctly classified {correct} out of {total} images.\")"
   ]
  },
  {
   "cell_type": "code",
   "execution_count": null,
   "metadata": {},
   "outputs": [
    {
     "data": {
      "text/plain": [
       "array([[0.07018606],\n",
       "       [0.05122388],\n",
       "       [0.16703672],\n",
       "       [0.29941741],\n",
       "       [0.08799515],\n",
       "       [0.08832081],\n",
       "       [0.12671645],\n",
       "       [0.02774696],\n",
       "       [0.04200582],\n",
       "       [0.03935074]])"
      ]
     },
     "execution_count": 9,
     "metadata": {},
     "output_type": "execute_result"
    }
   ],
   "source": [
    "# y_pred = nn1.forward(X_train[0])\n",
    "# y_pred"
   ]
  },
  {
   "cell_type": "code",
   "execution_count": null,
   "metadata": {},
   "outputs": [],
   "source": [
    "# d_theta_tuple_of_lists = nn1.backward(Y_train[0], y_pred=y_pred)\n",
    "# len(d_theta_tuple_of_lists[0])"
   ]
  },
  {
   "cell_type": "code",
   "execution_count": null,
   "metadata": {},
   "outputs": [
    {
     "data": {
      "text/plain": [
       "4"
      ]
     },
     "execution_count": 11,
     "metadata": {},
     "output_type": "execute_result"
    }
   ],
   "source": [
    "# len(d_theta_tuple_of_lists[0])"
   ]
  },
  {
   "cell_type": "code",
   "execution_count": null,
   "metadata": {},
   "outputs": [
    {
     "name": "stdout",
     "output_type": "stream",
     "text": [
      "(128, 784)\n",
      "(64, 128)\n",
      "(32, 64)\n",
      "(10, 32)\n"
     ]
    }
   ],
   "source": [
    "# for i in range(4):\n",
    "#     print(d_theta_tuple_of_lists[0][i].shape)"
   ]
  },
  {
   "cell_type": "code",
   "execution_count": null,
   "metadata": {},
   "outputs": [
    {
     "name": "stdout",
     "output_type": "stream",
     "text": [
      "(128, 1)\n",
      "(64, 1)\n",
      "(32, 1)\n",
      "(10, 1)\n"
     ]
    }
   ],
   "source": [
    "# for i in range(4):\n",
    "#     print(d_theta_tuple_of_lists[1][i].shape)"
   ]
  },
  {
   "cell_type": "code",
   "execution_count": null,
   "metadata": {},
   "outputs": [],
   "source": []
  }
 ],
 "metadata": {
  "kernelspec": {
   "display_name": "ml",
   "language": "python",
   "name": "python3"
  },
  "language_info": {
   "codemirror_mode": {
    "name": "ipython",
    "version": 3
   },
   "file_extension": ".py",
   "mimetype": "text/x-python",
   "name": "python",
   "nbconvert_exporter": "python",
   "pygments_lexer": "ipython3",
   "version": "3.10.13"
  }
 },
 "nbformat": 4,
 "nbformat_minor": 2
}
