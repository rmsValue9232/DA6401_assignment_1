{
 "cells": [
  {
   "cell_type": "code",
   "execution_count": 1,
   "metadata": {},
   "outputs": [],
   "source": [
    "import numpy as np\n",
    "import numpy.typing as npt\n",
    "import matplotlib.pyplot as plt\n",
    "from nn import *\n",
    "from losses import *\n",
    "from optimizers import Optimizer\n",
    "from utils import *"
   ]
  },
  {
   "cell_type": "code",
   "execution_count": 2,
   "metadata": {},
   "outputs": [],
   "source": [
    "from keras.datasets import fashion_mnist"
   ]
  },
  {
   "cell_type": "code",
   "execution_count": 3,
   "metadata": {},
   "outputs": [],
   "source": [
    "(x_train, y_train), (x_test, y_test) = fashion_mnist.load_data()"
   ]
  },
  {
   "cell_type": "code",
   "execution_count": 4,
   "metadata": {},
   "outputs": [
    {
     "name": "stdout",
     "output_type": "stream",
     "text": [
      "x_train.shape = (54000, 28, 28),\ty_train.shape = (54000,)\n",
      "x_valid.shape = (6000, 28, 28),\t\ty_valid.shape = (6000,)\n",
      "x_test.shape = (10000, 28, 28),\t\ty_test.shape = (10000,)\n"
     ]
    }
   ],
   "source": [
    "(x_train, y_train), (x_valid, y_valid) = train_valid_split(x_train, y_train)\n",
    "print(f\"x_train.shape = {x_train.shape},\\ty_train.shape = {y_train.shape}\")\n",
    "print(f\"x_valid.shape = {x_valid.shape},\\t\\ty_valid.shape = {y_valid.shape}\")\n",
    "print(f\"x_test.shape = {x_test.shape},\\t\\ty_test.shape = {y_test.shape}\")"
   ]
  },
  {
   "cell_type": "code",
   "execution_count": 5,
   "metadata": {},
   "outputs": [
    {
     "name": "stdout",
     "output_type": "stream",
     "text": [
      "X_train.shape = (54000, 784, 1), Y_train.shape = (54000, 10, 1)\n"
     ]
    }
   ],
   "source": [
    "X_train, Y_train = flatten_image_to_vector(x_train), one_hot_encoder(y_train)\n",
    "print(f\"X_train.shape = {X_train.shape}, Y_train.shape = {Y_train.shape}\")"
   ]
  },
  {
   "cell_type": "code",
   "execution_count": 6,
   "metadata": {},
   "outputs": [],
   "source": [
    "nn1 = NeuralNetwork(weight_init=\"xavier\",\n",
    "                    layer_sizes=[784,16], activations=[\"sigmoid\"],\n",
    "                    optimizer=\"nag\", learning_rate=0.01, beta=0.9)"
   ]
  },
  {
   "cell_type": "code",
   "execution_count": 7,
   "metadata": {},
   "outputs": [],
   "source": [
    "nn1.add_layer(input_size=16, output_size=10, weight_init=\"xavier\", activation=\"softmax\")"
   ]
  },
  {
   "cell_type": "code",
   "execution_count": 8,
   "metadata": {},
   "outputs": [
    {
     "name": "stdout",
     "output_type": "stream",
     "text": [
      "Layer_0 has input neurons size = 784, has W.shape = (16, 784)\n",
      "Layer_0 has output neurons size = 16\n",
      "Layer_1 has input neurons size = 16, has W.shape = (10, 16)\n",
      "Layer_1 has output neurons size = 10\n"
     ]
    }
   ],
   "source": [
    "for i in range(len(nn1.layers)):\n",
    "    print(f\"Layer_{i} has input neurons size = {nn1.layers[i].input_size}, has W.shape = {nn1.layers[i].W.shape}\")\n",
    "    print(f\"Layer_{i} has output neurons size = {nn1.layers[i].output_size}\")"
   ]
  },
  {
   "cell_type": "code",
   "execution_count": 9,
   "metadata": {},
   "outputs": [
    {
     "name": "stderr",
     "output_type": "stream",
     "text": [
      "c:\\Users\\adity\\Documents\\IITM semester 2\\Deep Learning\\DA6401_assignment_1\\activations.py:70: RuntimeWarning: overflow encountered in exp\n",
      "  1.0/(1.0 + np.exp(-x)),\n",
      "c:\\Users\\adity\\Documents\\IITM semester 2\\Deep Learning\\DA6401_assignment_1\\activations.py:71: RuntimeWarning: overflow encountered in exp\n",
      "  np.exp(x)/(1.0 + np.exp(x)))\n",
      "c:\\Users\\adity\\Documents\\IITM semester 2\\Deep Learning\\DA6401_assignment_1\\activations.py:71: RuntimeWarning: invalid value encountered in divide\n",
      "  np.exp(x)/(1.0 + np.exp(x)))\n"
     ]
    },
    {
     "name": "stdout",
     "output_type": "stream",
     "text": [
      "Epoch 1, Loss = 52.51106159492158\n",
      "Epoch 2, Loss = 44.198175495539196\n",
      "Epoch 3, Loss = 40.603075915585706\n",
      "Epoch 4, Loss = 39.475303768951875\n",
      "Epoch 5, Loss = 39.537599601222304\n",
      "Epoch 6, Loss = 39.34054434230645\n",
      "Epoch 7, Loss = 38.9940931770421\n",
      "Epoch 8, Loss = 39.29145246083864\n",
      "Epoch 9, Loss = 40.01097312404691\n",
      "Epoch 10, Loss = 39.785549685132665\n",
      "Epoch 11, Loss = 39.61349383881327\n",
      "Epoch 12, Loss = 39.42361238511458\n",
      "Epoch 13, Loss = 39.28788346591234\n",
      "Epoch 14, Loss = 39.16457582629013\n",
      "Epoch 15, Loss = 39.05871641942082\n",
      "Epoch 16, Loss = 40.907676029902746\n",
      "Epoch 17, Loss = 40.857618418421524\n",
      "Epoch 18, Loss = 40.93354258202066\n",
      "Epoch 19, Loss = 42.34524897364592\n",
      "Epoch 20, Loss = 41.38422452110363\n"
     ]
    }
   ],
   "source": [
    "nn1.train(X_train=X_train[:20], Y_train=Y_train[:20], batch_size=2, epochs=20)"
   ]
  },
  {
   "cell_type": "code",
   "execution_count": null,
   "metadata": {},
   "outputs": [
    {
     "data": {
      "text/plain": [
       "array([[0.07018606],\n",
       "       [0.05122388],\n",
       "       [0.16703672],\n",
       "       [0.29941741],\n",
       "       [0.08799515],\n",
       "       [0.08832081],\n",
       "       [0.12671645],\n",
       "       [0.02774696],\n",
       "       [0.04200582],\n",
       "       [0.03935074]])"
      ]
     },
     "execution_count": 9,
     "metadata": {},
     "output_type": "execute_result"
    }
   ],
   "source": [
    "# y_pred = nn1.forward(X_train[0])\n",
    "# y_pred"
   ]
  },
  {
   "cell_type": "code",
   "execution_count": null,
   "metadata": {},
   "outputs": [],
   "source": [
    "# d_theta_tuple_of_lists = nn1.backward(Y_train[0], y_pred=y_pred)\n",
    "# len(d_theta_tuple_of_lists[0])"
   ]
  },
  {
   "cell_type": "code",
   "execution_count": null,
   "metadata": {},
   "outputs": [
    {
     "data": {
      "text/plain": [
       "4"
      ]
     },
     "execution_count": 11,
     "metadata": {},
     "output_type": "execute_result"
    }
   ],
   "source": [
    "# len(d_theta_tuple_of_lists[0])"
   ]
  },
  {
   "cell_type": "code",
   "execution_count": null,
   "metadata": {},
   "outputs": [
    {
     "name": "stdout",
     "output_type": "stream",
     "text": [
      "(128, 784)\n",
      "(64, 128)\n",
      "(32, 64)\n",
      "(10, 32)\n"
     ]
    }
   ],
   "source": [
    "# for i in range(4):\n",
    "#     print(d_theta_tuple_of_lists[0][i].shape)"
   ]
  },
  {
   "cell_type": "code",
   "execution_count": null,
   "metadata": {},
   "outputs": [
    {
     "name": "stdout",
     "output_type": "stream",
     "text": [
      "(128, 1)\n",
      "(64, 1)\n",
      "(32, 1)\n",
      "(10, 1)\n"
     ]
    }
   ],
   "source": [
    "# for i in range(4):\n",
    "#     print(d_theta_tuple_of_lists[1][i].shape)"
   ]
  },
  {
   "cell_type": "code",
   "execution_count": null,
   "metadata": {},
   "outputs": [],
   "source": []
  }
 ],
 "metadata": {
  "kernelspec": {
   "display_name": "ml",
   "language": "python",
   "name": "python3"
  },
  "language_info": {
   "codemirror_mode": {
    "name": "ipython",
    "version": 3
   },
   "file_extension": ".py",
   "mimetype": "text/x-python",
   "name": "python",
   "nbconvert_exporter": "python",
   "pygments_lexer": "ipython3",
   "version": "3.10.13"
  }
 },
 "nbformat": 4,
 "nbformat_minor": 2
}
