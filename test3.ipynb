{
 "cells": [
  {
   "cell_type": "code",
   "execution_count": 1,
   "metadata": {},
   "outputs": [],
   "source": [
    "import numpy as np\n",
    "import numpy.typing as npt\n",
    "import matplotlib.pyplot as plt\n",
    "from nn import *\n",
    "from losses import *\n",
    "from optimizers import Optimizer\n",
    "from utils import *"
   ]
  },
  {
   "cell_type": "code",
   "execution_count": 2,
   "metadata": {},
   "outputs": [],
   "source": [
    "from keras.datasets import fashion_mnist"
   ]
  },
  {
   "cell_type": "code",
   "execution_count": 3,
   "metadata": {},
   "outputs": [],
   "source": [
    "(x_train, y_train), (x_test, y_test) = fashion_mnist.load_data()"
   ]
  },
  {
   "cell_type": "code",
   "execution_count": 4,
   "metadata": {},
   "outputs": [
    {
     "name": "stdout",
     "output_type": "stream",
     "text": [
      "x_train.shape = (54000, 28, 28),\ty_train.shape = (54000,)\n",
      "x_valid.shape = (6000, 28, 28),\t\ty_valid.shape = (6000,)\n",
      "x_test.shape = (10000, 28, 28),\t\ty_test.shape = (10000,)\n"
     ]
    }
   ],
   "source": [
    "(x_train, y_train), (x_valid, y_valid) = train_valid_split(x_train, y_train)\n",
    "print(f\"x_train.shape = {x_train.shape},\\ty_train.shape = {y_train.shape}\")\n",
    "print(f\"x_valid.shape = {x_valid.shape},\\t\\ty_valid.shape = {y_valid.shape}\")\n",
    "print(f\"x_test.shape = {x_test.shape},\\t\\ty_test.shape = {y_test.shape}\")"
   ]
  },
  {
   "cell_type": "code",
   "execution_count": 5,
   "metadata": {},
   "outputs": [
    {
     "name": "stdout",
     "output_type": "stream",
     "text": [
      "X_train.shape = (54000, 784, 1), Y_train.shape = (54000, 10, 1)\n"
     ]
    }
   ],
   "source": [
    "X_train, Y_train = flatten_image_to_vector(x_train), one_hot_encoder(y_train)\n",
    "print(f\"X_train.shape = {X_train.shape}, Y_train.shape = {Y_train.shape}\")"
   ]
  },
  {
   "cell_type": "code",
   "execution_count": 6,
   "metadata": {},
   "outputs": [
    {
     "data": {
      "text/plain": [
       "array([[0.],\n",
       "       [0.],\n",
       "       [0.],\n",
       "       [0.],\n",
       "       [0.],\n",
       "       [0.],\n",
       "       [0.],\n",
       "       [0.],\n",
       "       [0.],\n",
       "       [1.]])"
      ]
     },
     "execution_count": 6,
     "metadata": {},
     "output_type": "execute_result"
    }
   ],
   "source": [
    "Y_train[0]"
   ]
  },
  {
   "cell_type": "code",
   "execution_count": 60,
   "metadata": {},
   "outputs": [],
   "source": [
    "nn1 = NeuralNetwork(weight_init=\"xavier\",\n",
    "                    layer_sizes=[784,16], activations=[\"sigmoid\"],\n",
    "                    optimizer=\"rmsprop\", learning_rate=0.01, weight_decay=1.0e-2, beta=0.5, epsilon=1e-6)#, beta1=0.5, beta2=0.5, )"
   ]
  },
  {
   "cell_type": "code",
   "execution_count": 61,
   "metadata": {},
   "outputs": [],
   "source": [
    "nn1.add_layer(input_size=16, output_size=10, weight_init=\"xavier\", activation=\"softmax\")"
   ]
  },
  {
   "cell_type": "code",
   "execution_count": 62,
   "metadata": {},
   "outputs": [
    {
     "name": "stdout",
     "output_type": "stream",
     "text": [
      "Layer_0 has input neurons size = 784, has W.shape = (16, 784)\n",
      "Layer_0 has output neurons size = 16\n",
      "Layer_1 has input neurons size = 16, has W.shape = (10, 16)\n",
      "Layer_1 has output neurons size = 10\n"
     ]
    }
   ],
   "source": [
    "for i in range(len(nn1.layers)):\n",
    "    print(f\"Layer_{i} has input neurons size = {nn1.layers[i].input_size}, has W.shape = {nn1.layers[i].W.shape}\")\n",
    "    print(f\"Layer_{i} has output neurons size = {nn1.layers[i].output_size}\")"
   ]
  },
  {
   "cell_type": "code",
   "execution_count": 56,
   "metadata": {},
   "outputs": [
    {
     "data": {
      "text/plain": [
       "(1, 784, 1)"
      ]
     },
     "execution_count": 56,
     "metadata": {},
     "output_type": "execute_result"
    }
   ],
   "source": [
    "np.mean(X_train, axis=0, keepdims=True).shape"
   ]
  },
  {
   "cell_type": "code",
   "execution_count": 57,
   "metadata": {},
   "outputs": [],
   "source": [
    "normalizedX_train = (X_train - np.mean(X_train, axis=0, keepdims=True))/np.std(X_train, axis=0, keepdims=True)"
   ]
  },
  {
   "cell_type": "code",
   "execution_count": 68,
   "metadata": {},
   "outputs": [
    {
     "name": "stdout",
     "output_type": "stream",
     "text": [
      "Epoch 10, Loss = 1.9839756136666467\n",
      "Epoch 20, Loss = 1.160963027891695\n",
      "Epoch 30, Loss = 0.5349293704829607\n",
      "Epoch 40, Loss = 0.2130705382047984\n"
     ]
    }
   ],
   "source": [
    "nn1.train(X_train=normalizedX_train[:200].copy(), Y_train=Y_train[:200].copy(), batch_size=20, epochs=40)"
   ]
  },
  {
   "cell_type": "code",
   "execution_count": 66,
   "metadata": {},
   "outputs": [],
   "source": [
    "X_test, Y_test = flatten_image_to_vector(x_test), one_hot_encoder(y_test)\n",
    "normalizedX_test = (X_test - np.mean(X_test, axis=0, keepdims=True))/np.std(X_test, axis=0, keepdims=True)"
   ]
  },
  {
   "cell_type": "code",
   "execution_count": 69,
   "metadata": {},
   "outputs": [
    {
     "name": "stdout",
     "output_type": "stream",
     "text": [
      "Correctly classified 7189 out of 10000 images.\n"
     ]
    }
   ],
   "source": [
    "total = 0\n",
    "correct = 0\n",
    "for i in range(len(X_test)):\n",
    "    y_pred = nn1.forward(normalizedX_test[i])\n",
    "    y_pred = np.int8((y_pred == np.max(y_pred)))\n",
    "    pred_label = np.argwhere(y_pred == 1)[0][0]\n",
    "    real_label = np.argwhere(Y_test[i] == 1)[0][0]\n",
    "    # print(f\"true label: {real_label}, predicted label: {pred_label}\")\n",
    "    total += 1\n",
    "    if pred_label == real_label:\n",
    "        correct += 1\n",
    "\n",
    "print(f\"Correctly classified {correct} out of {total} images.\")"
   ]
  },
  {
   "cell_type": "code",
   "execution_count": null,
   "metadata": {},
   "outputs": [
    {
     "data": {
      "text/plain": [
       "array([[0.07018606],\n",
       "       [0.05122388],\n",
       "       [0.16703672],\n",
       "       [0.29941741],\n",
       "       [0.08799515],\n",
       "       [0.08832081],\n",
       "       [0.12671645],\n",
       "       [0.02774696],\n",
       "       [0.04200582],\n",
       "       [0.03935074]])"
      ]
     },
     "execution_count": 9,
     "metadata": {},
     "output_type": "execute_result"
    }
   ],
   "source": [
    "# y_pred = nn1.forward(X_train[0])\n",
    "# y_pred"
   ]
  },
  {
   "cell_type": "code",
   "execution_count": null,
   "metadata": {},
   "outputs": [],
   "source": [
    "# d_theta_tuple_of_lists = nn1.backward(Y_train[0], y_pred=y_pred)\n",
    "# len(d_theta_tuple_of_lists[0])"
   ]
  },
  {
   "cell_type": "code",
   "execution_count": null,
   "metadata": {},
   "outputs": [
    {
     "data": {
      "text/plain": [
       "4"
      ]
     },
     "execution_count": 11,
     "metadata": {},
     "output_type": "execute_result"
    }
   ],
   "source": [
    "# len(d_theta_tuple_of_lists[0])"
   ]
  },
  {
   "cell_type": "code",
   "execution_count": null,
   "metadata": {},
   "outputs": [
    {
     "name": "stdout",
     "output_type": "stream",
     "text": [
      "(128, 784)\n",
      "(64, 128)\n",
      "(32, 64)\n",
      "(10, 32)\n"
     ]
    }
   ],
   "source": [
    "# for i in range(4):\n",
    "#     print(d_theta_tuple_of_lists[0][i].shape)"
   ]
  },
  {
   "cell_type": "code",
   "execution_count": null,
   "metadata": {},
   "outputs": [
    {
     "name": "stdout",
     "output_type": "stream",
     "text": [
      "(128, 1)\n",
      "(64, 1)\n",
      "(32, 1)\n",
      "(10, 1)\n"
     ]
    }
   ],
   "source": [
    "# for i in range(4):\n",
    "#     print(d_theta_tuple_of_lists[1][i].shape)"
   ]
  },
  {
   "cell_type": "code",
   "execution_count": null,
   "metadata": {},
   "outputs": [],
   "source": []
  }
 ],
 "metadata": {
  "kernelspec": {
   "display_name": "ml",
   "language": "python",
   "name": "python3"
  },
  "language_info": {
   "codemirror_mode": {
    "name": "ipython",
    "version": 3
   },
   "file_extension": ".py",
   "mimetype": "text/x-python",
   "name": "python",
   "nbconvert_exporter": "python",
   "pygments_lexer": "ipython3",
   "version": "3.10.13"
  }
 },
 "nbformat": 4,
 "nbformat_minor": 2
}
